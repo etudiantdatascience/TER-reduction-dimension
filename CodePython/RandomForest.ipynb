{
 "cells": [
  {
   "cell_type": "code",
   "execution_count": 6,
   "metadata": {},
   "outputs": [],
   "source": [
    "%run ImportData.ipynb"
   ]
  },
  {
   "cell_type": "code",
   "execution_count": 7,
   "metadata": {},
   "outputs": [],
   "source": [
    "#IMPORTATION DES DONNEES EXPERTISEES\n",
    "donnees,quanti,quali=FonctionImportDonnees(\"https://raw.githubusercontent.com/etudiantdatascience/TER-reduction-dimension/master/Data/semis.xlsx\")"
   ]
  },
  {
   "cell_type": "code",
   "execution_count": 9,
   "metadata": {},
   "outputs": [],
   "source": [
    "# Import des librairies\n",
    "import matplotlib.pyplot as plt\n",
    "import pandas as pd\n",
    "import numpy as np\n",
    "from sklearn.ensemble import RandomForestClassifier\n",
    "#from sklearn.datasets import make_classification"
   ]
  },
  {
   "cell_type": "code",
   "execution_count": 10,
   "metadata": {},
   "outputs": [
    {
     "data": {
      "image/png": "[encoded data removed]",
      "text/plain": [
       "<Figure size 1080x216 with 1 Axes>"
      ]
     },
     "metadata": {
      "needs_background": "light"
     },
     "output_type": "display_data"
    },
    {
     "name": "stdout",
     "output_type": "stream",
     "text": [
      "1\n",
      "0.9305555555555556\n"
     ]
    }
   ],
   "source": [
    "# Transformation des variables en variables numériques\n",
    "for variableQuali in quali:\n",
    "    valeur=donnees[variableQuali].drop_duplicates().values\n",
    "    donnees[variableQuali]=donnees[variableQuali].replace(valeur,list(range(len(valeur))))\n",
    "\n",
    "importance=np.zeros(len(quanti))\n",
    "\n",
    "for i in quali:\n",
    "    clf = RandomForestClassifier(n_estimators=50, max_depth=15,\n",
    "                                 random_state=4,criterion='gini') # Fonction clé de la méthode\n",
    "    clf.fit(donnees[quanti],donnees['zone'])\n",
    "    importance=importance+clf.feature_importances_ #Paramètre pour la reduction de dimension\n",
    "\n",
    "feature_imp = pd.Series(importance,index=quanti).sort_values(ascending=False)\n",
    "x=np.arange(len(feature_imp.values))\n",
    "fig, axes = plt.subplots(figsize=(15,3))\n",
    "plt.bar(x,feature_imp.values)\n",
    "plt.xticks(x, feature_imp.index)\n",
    "plt.xlabel('Feature Importance Score')\n",
    "plt.ylabel('Features')\n",
    "plt.title(\"Visualizing Important Features\")\n",
    "plt.show()\n",
    "#print(clf.predict([[0, 0, 0, 0]]))\n",
    "\n",
    "from sklearn.model_selection import train_test_split\n",
    "\n",
    "X_train,X_test,y_train,y_test=train_test_split(donnees[quanti],donnees['zone'],test_size=0.3,random_state=4) # Vérifier la qualité\n",
    "\n",
    "forest=RandomForestClassifier(n_estimators=500, max_depth=15,criterion='gini')\n",
    "\n",
    "forest = forest.fit(X_train,y_train)\n",
    "print(1-forest.oob_score)\n",
    "print(1-forest.score(X_test,y_test))"
   ]
  },
  {
   "cell_type": "code",
   "execution_count": null,
   "metadata": {},
   "outputs": [],
   "source": []
  }
 ],
 "metadata": {
  "kernelspec": {
   "display_name": "Python 3",
   "language": "python",
   "name": "python3"
  },
  "language_info": {
   "codemirror_mode": {
    "name": "ipython",
    "version": 3
   },
   "file_extension": ".py",
   "mimetype": "text/x-python",
   "name": "python",
   "nbconvert_exporter": "python",
   "pygments_lexer": "ipython3",
   "version": "3.7.1"
  }
 },
 "nbformat": 4,
 "nbformat_minor": 2
}

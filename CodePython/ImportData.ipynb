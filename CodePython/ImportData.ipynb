{
 "cells": [
  {
   "cell_type": "code",
   "execution_count": 7,
   "metadata": {
    "scrolled": false
   },
   "outputs": [],
   "source": [
    "#IMPORTATION DES LIBRAIRIES\n",
    "\n",
    "import pandas as pd\n",
    "\n",
    "def FonctionImportDonnees(chemin):\n",
    "    \"\"\"\n",
    "        importe les données du fichier excel, après expertise\n",
    "    \"\"\"\n",
    "    donnees=pd.ExcelFile(chemin).parse(1) #Sélectionne la première feuille\n",
    "    donnees=donnees.drop(index=[960,952]) #Supprime les lignes avec trop de NA\n",
    "    donnees=donnees.drop('5°C T50 (h)',axis=1).drop('5°C T50 (j)',axis=1).drop('5°C TMG (h)',axis=1) #Supprime les colonnes avec information identique, ou avec trop de NA\n",
    "    \n",
    "    liste=[]\n",
    "    col={}\n",
    "    j=0\n",
    "    \n",
    "    for i in range(10,16): #Expertise: création des données de croissance\n",
    "        a=donnees.columns[i]\n",
    "        b=donnees.columns[i+1]\n",
    "        liste.append(donnees[b]-donnees[a])\n",
    "        c='v'+a+'-'+b\n",
    "        col[j]=c.replace(' ','')\n",
    "        j=j+1\n",
    "    croissance=pd.DataFrame(liste).T\n",
    "    croissance=croissance.rename(col, axis='columns')\n",
    "    donnees=pd.concat([donnees,croissance],axis=1).dropna()\n",
    "    donnees.set_index('rep')\n",
    "    \n",
    "    donnees=donnees[['Bancs', 'Pop', 'Echantillon', 'rep', 'N° rep', 'camera', 'semis','zone', '5°C TMG (j)', 'Aire sous la courbe', 'v15j-16j', 'v16j-17j', 'v17j-18j','v18j-19j', 'v19j-20j', 'v20j-21j']]\n",
    "    \n",
    "    quanti=['5°C TMG (j)', 'Aire sous la courbe', 'v15j-16j', 'v16j-17j', 'v17j-18j','v18j-19j', 'v19j-20j', 'v20j-21j']\n",
    "    quali=['Bancs', 'Pop', 'N° rep', 'camera', 'semis','zone']\n",
    "    \n",
    "    return donnees,quanti,quali"
   ]
  }
 ],
 "metadata": {
  "kernelspec": {
   "display_name": "Python 3",
   "language": "python",
   "name": "python3"
  },
  "language_info": {
   "codemirror_mode": {
    "name": "ipython",
    "version": 3
   },
   "file_extension": ".py",
   "mimetype": "text/x-python",
   "name": "python",
   "nbconvert_exporter": "python",
   "pygments_lexer": "ipython3",
   "version": "3.7.1"
  }
 },
 "nbformat": 4,
 "nbformat_minor": 2
}

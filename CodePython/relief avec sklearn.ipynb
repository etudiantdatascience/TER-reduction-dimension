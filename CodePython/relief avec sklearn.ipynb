{
 "cells": [
  {
   "cell_type": "code",
   "execution_count": 5,
   "metadata": {},
   "outputs": [],
   "source": [
    "import sklearn_relief as relief"
   ]
  },
  {
   "cell_type": "code",
   "execution_count": 10,
   "metadata": {},
   "outputs": [],
   "source": [
    "import pandas as pd\n",
    "\n",
    "def FonctionImportDonnees(chemin):\n",
    "    \"\"\"\n",
    "        importe les données du fichier excel, après expertise\n",
    "    \"\"\"\n",
    "    donnees=pd.ExcelFile(chemin).parse(1) #Sélectionne la première feuille\n",
    "    donnees=donnees.drop(index=[960,952]) #Supprime les lignes avec trop de NA\n",
    "    donnees=donnees.drop('5°C T50 (h)',axis=1).drop('5°C T50 (j)',axis=1).drop('5°C TMG (h)',axis=1) #Supprime les colonnes avec information identique, ou avec trop de NA\n",
    "    \n",
    "    liste=[]\n",
    "    col={}\n",
    "    j=0\n",
    "    \n",
    "    for i in range(10,16): #Expertise: création des données de croissance\n",
    "        a=donnees.columns[i]\n",
    "        b=donnees.columns[i+1]\n",
    "        liste.append(donnees[b]-donnees[a])\n",
    "        c='v'+a+'-'+b\n",
    "        col[j]=c.replace(' ','')\n",
    "        j=j+1\n",
    "    croissance=pd.DataFrame(liste).T\n",
    "    croissance=croissance.rename(col, axis='columns')\n",
    "    donnees=pd.concat([donnees,croissance],axis=1).dropna()\n",
    "    donnees.set_index('rep')\n",
    "    \n",
    "    donnees=donnees[['Bancs', 'Pop', 'Echantillon', 'rep', 'N° rep', 'camera', 'semis','zone', '5°C TMG (j)', 'Aire sous la courbe', 'v15j-16j', 'v16j-17j', 'v17j-18j','v18j-19j', 'v19j-20j', 'v20j-21j']]\n",
    "    \n",
    "    quanti=['5°C TMG (j)', 'Aire sous la courbe', 'v15j-16j', 'v16j-17j', 'v17j-18j','v18j-19j', 'v19j-20j', 'v20j-21j']\n",
    "    quali=['Bancs', 'Pop', 'N° rep', 'camera', 'semis','zone']\n",
    "    \n",
    "    return donnees,quanti,quali"
   ]
  },
  {
   "cell_type": "code",
   "execution_count": 24,
   "metadata": {},
   "outputs": [],
   "source": [
    "import pandas as pd\n",
    "\n",
    "donnees,quanti,quali=FonctionImportDonnees(\"https://raw.githubusercontent.com/etudiantdatascience/TER-reduction-dimension/master/Data/semis.xlsx\")\n",
    "\n",
    "\n",
    "features, labels = donnees[quanti],donnees[quali]\n",
    "\n",
    "# Load some data and put it in a numpy.array matrix\n",
    "my_input_matrix = np.array(features)\n",
    "\n",
    "# Load the label vector\n",
    "my_label_vector = np.array(donnees['zone'])\n",
    "\n",
    "r = relief.Relief(\n",
    "    n_features=3 # Choose the best 3 features\n",
    ") # Will run by default on all processors concurrently\n",
    "\n",
    "my_transformed_matrix = r.fit_transform(\n",
    "    my_input_matrix,\n",
    "    my_label_vector\n",
    ")"
   ]
  },
  {
   "cell_type": "code",
   "execution_count": 27,
   "metadata": {},
   "outputs": [
    {
     "data": {
      "text/plain": [
       "array([0.63042577, 8.304     , 4.55941176, 3.84      , 3.8       ,\n",
       "       3.        , 2.84      , 2.4       ])"
      ]
     },
     "execution_count": 27,
     "metadata": {},
     "output_type": "execute_result"
    }
   ],
   "source": [
    "r.w_"
   ]
  },
  {
   "cell_type": "code",
   "execution_count": 28,
   "metadata": {},
   "outputs": [
    {
     "data": {
      "text/plain": [
       "['5°C TMG (j)',\n",
       " 'Aire sous la courbe',\n",
       " 'v15j-16j',\n",
       " 'v16j-17j',\n",
       " 'v17j-18j',\n",
       " 'v18j-19j',\n",
       " 'v19j-20j',\n",
       " 'v20j-21j']"
      ]
     },
     "execution_count": 28,
     "metadata": {},
     "output_type": "execute_result"
    }
   ],
   "source": [
    "quanti"
   ]
  }
 ],
 "metadata": {
  "kernelspec": {
   "display_name": "Python 3",
   "language": "python",
   "name": "python3"
  },
  "language_info": {
   "codemirror_mode": {
    "name": "ipython",
    "version": 3
   },
   "file_extension": ".py",
   "mimetype": "text/x-python",
   "name": "python",
   "nbconvert_exporter": "python",
   "pygments_lexer": "ipython3",
   "version": "3.7.0"
  }
 },
 "nbformat": 4,
 "nbformat_minor": 2
}
